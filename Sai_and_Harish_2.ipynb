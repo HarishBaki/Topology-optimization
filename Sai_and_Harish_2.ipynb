{
 "cells": [
  {
   "cell_type": "code",
   "execution_count": 1,
   "metadata": {},
   "outputs": [],
   "source": [
    "import tensorflow as tf\n",
    "import numpy as np\n",
    "import matplotlib.pyplot as plt\n",
    "%matplotlib inline\n",
    "from PIL import Image\n",
    "import os\n",
    "from collections import OrderedDict\n",
    "import scipy.io as spio\n",
    "from datetime import datetime\n",
    "now = datetime.utcnow().strftime(\"%Y%m%d%H%M%S\")\n",
    "root_logdir = \"tf_logs\"\n",
    "logdir = \"{}/run-{}/\".format(root_logdir,now)"
   ]
  },
  {
   "cell_type": "code",
   "execution_count": 2,
   "metadata": {},
   "outputs": [],
   "source": [
    "size = 100\n",
    "directory = 'dataset3/'+str(size)+'data/'\n",
    "label_dict = OrderedDict()\n",
    "input_dict = OrderedDict()\n",
    "for percentage in [0.1,0.2,0.3,0.4,0.5,0.6,0.7,0.8,0.9]:\n",
    "    Labels=[]\n",
    "    Inputs=[]\n",
    "    for nu in range(49):\n",
    "        file = spio.loadmat(directory+str(percentage)+'/'+'rho_'+str(size)+'_'+str(int(percentage*100))+'_'+str(nu+1)+'.mat')\n",
    "        labels = file['x']\n",
    "        Labels.append(labels)\n",
    "        inputs = np.zeros((size,size,2))\n",
    "        inputs[:int(percentage*100),:,0] = 1\n",
    "        inputs[:,:,1] = (nu+1)/100\n",
    "        Inputs.append(inputs)\n",
    "    label_dict[percentage] = Labels\n",
    "    input_dict[percentage] = Inputs    "
   ]
  },
  {
   "cell_type": "code",
   "execution_count": 3,
   "metadata": {},
   "outputs": [],
   "source": [
    "for percentage in [0.05,0.15,0.25,0.35,0.45,0.55,0.65,0.75,0.85,0.95]: # It defines the percentage of beam material of total size\n",
    "    Labels=[]\n",
    "    Inputs=[]\n",
    "    for nu in range(49):       # It is the poission ratio from 1 to 49\n",
    "        file = spio.loadmat(directory+str(percentage)+'/'+'rho,'+str(size)+'_'+str(int(percentage*100))+'_'+str(nu+1)+'.mat')\n",
    "        labels = file['x']     # in the matlab file 'x' holds images.\n",
    "        Labels.append(labels)  \n",
    "        inputs = np.zeros((size,size,2))  \n",
    "        inputs[:int(percentage*100),:,0] = 1    # input image 1st layer has percentage information given 0:percentage*100,100 = 1\n",
    "        inputs[:,:,1] = (nu+1)/100    # 2nd layer has nu information, given :,: = nu/100        \n",
    "        Inputs.append(inputs)\n",
    "    label_dict[percentage] = Labels\n",
    "    input_dict[percentage] = Inputs"
   ]
  },
  {
   "cell_type": "code",
   "execution_count": 4,
   "metadata": {},
   "outputs": [
    {
     "data": {
      "text/plain": [
       "array([[ 0.02,  0.02,  0.02, ...,  0.02,  0.02,  0.02],\n",
       "       [ 0.02,  0.02,  0.02, ...,  0.02,  0.02,  0.02],\n",
       "       [ 0.02,  0.02,  0.02, ...,  0.02,  0.02,  0.02],\n",
       "       ..., \n",
       "       [ 0.02,  0.02,  0.02, ...,  0.02,  0.02,  0.02],\n",
       "       [ 0.02,  0.02,  0.02, ...,  0.02,  0.02,  0.02],\n",
       "       [ 0.02,  0.02,  0.02, ...,  0.02,  0.02,  0.02]])"
      ]
     },
     "execution_count": 4,
     "metadata": {},
     "output_type": "execute_result"
    }
   ],
   "source": [
    "input_dict[0.8][1][:,:,1]"
   ]
  },
  {
   "cell_type": "code",
   "execution_count": 5,
   "metadata": {},
   "outputs": [
    {
     "data": {
      "text/plain": [
       "<matplotlib.image.AxesImage at 0x7f3aa1193320>"
      ]
     },
     "execution_count": 5,
     "metadata": {},
     "output_type": "execute_result"
    },
    {
     "data": {
      "image/png": "[encoded data removed]",
      "text/plain": [
       "<matplotlib.figure.Figure at 0x7f3aa32227f0>"
      ]
     },
     "metadata": {},
     "output_type": "display_data"
    }
   ],
   "source": [
    "plt.figure(figsize=(14,8))\n",
    "plt.subplot(121)\n",
    "plt.imshow(label_dict[0.8][48])\n",
    "plt.subplot(122)\n",
    "plt.imshow(input_dict[0.8][48][:,:,0])"
   ]
  },
  {
   "cell_type": "code",
   "execution_count": 6,
   "metadata": {},
   "outputs": [
    {
     "data": {
      "image/png": "[encoded data removed]",
      "text/plain": [
       "<matplotlib.figure.Figure at 0x7f3aa1173c88>"
      ]
     },
     "metadata": {},
     "output_type": "display_data"
    }
   ],
   "source": [
    "plt.figure(figsize=(2,5))\n",
    "plt.subplot(211)\n",
    "plt.imshow(input_dict[0.8][48][:,:,0])\n",
    "plt.title('first layer')\n",
    "plt.colorbar(fraction=0.046, pad=0.04)\n",
    "plt.clim(0,1)\n",
    "plt.subplot(212)\n",
    "plt.imshow(input_dict[0.8][48][:,:,1])\n",
    "plt.title('second layer')\n",
    "plt.colorbar(fraction=0.046, pad=0.04)\n",
    "plt.clim(0,1)"
   ]
  },
  {
   "cell_type": "code",
   "execution_count": 7,
   "metadata": {},
   "outputs": [],
   "source": [
    "def split_data(total_size, training_size, cv_size, testing_size):\n",
    "    data = np.arange(total_size)\n",
    "    train = np.random.choice(data, training_size, replace=False)\n",
    "    Test = np.zeros(total_size-training_size)\n",
    "    count = 0\n",
    "    for i in range(total_size):\n",
    "        if i not in train:\n",
    "            Test[count] = i\n",
    "            count = count+1\n",
    "    cv = np.random.choice(Test, cv_size, replace=False)\n",
    "    test = np.zeros(testing_size)\n",
    "    count = 0\n",
    "    for i in range(len(Test)):\n",
    "        if Test[i] not in cv:\n",
    "            test[count] = Test[i]\n",
    "            count = count +1\n",
    "    train = np.array(train).astype(np.int)\n",
    "    cv = np.array(cv).astype(np.int)\n",
    "    test = np.array(test).astype(np.int)\n",
    "    return train, cv, test"
   ]
  },
  {
   "cell_type": "code",
   "execution_count": 8,
   "metadata": {},
   "outputs": [],
   "source": [
    "train_labels = []\n",
    "train_features = []\n",
    "cv_labels = []\n",
    "cv_features = []\n",
    "test_labels = []\n",
    "test_features = []\n",
    "for key in input_dict.keys():\n",
    "    m = len(label_dict[key])\n",
    "    m_train = int(m*0.7)\n",
    "    m_cv = int(m*0.2)\n",
    "    m_test = int(m-m_train-m_cv)\n",
    "    train,cv,test = split_data(m,m_train,m_cv,m_test)\n",
    "    for i in range(m_train):\n",
    "        train_labels.append(label_dict[key][train[i]])\n",
    "        train_features.append(input_dict[key][train[i]])\n",
    "    for i in range(m_cv):\n",
    "        cv_labels.append(label_dict[key][cv[i]])\n",
    "        cv_features.append(input_dict[key][cv[i]])\n",
    "    for i in range(m_test):\n",
    "        test_labels.append(label_dict[key][test[i]])\n",
    "        test_features.append(input_dict[key][test[i]])"
   ]
  },
  {
   "cell_type": "code",
   "execution_count": 9,
   "metadata": {},
   "outputs": [
    {
     "name": "stdout",
     "output_type": "stream",
     "text": [
      "number of train labels =  646\n",
      "number of cv labels =  171\n",
      "number of test labels =  114\n"
     ]
    }
   ],
   "source": [
    "print('number of train labels = ',len(train_labels))\n",
    "print('number of cv labels = ', len(cv_labels))\n",
    "print('number of test labels = ',len(test_labels))"
   ]
  },
  {
   "cell_type": "code",
   "execution_count": 10,
   "metadata": {},
   "outputs": [],
   "source": [
    "def conv_layer(inputs, kernel_size_1,kernel_size_2,output_channels,stride,padding='SAME', nonlinearity=None):\n",
    "    input_channels = int(inputs.get_shape()[3])\n",
    "    weights = tf.Variable(tf.truncated_normal(shape=[kernel_size_1, kernel_size_2, input_channels, output_channels],\n",
    "                                              dtype=tf.float32, stddev=0.1))\n",
    "    biases = tf.Variable(tf.truncated_normal(\n",
    "        [output_channels], dtype=tf.float32, stddev=0.1))\n",
    "    conv = tf.nn.conv2d(inputs, weights, strides=[\n",
    "                        1, stride, stride, 1], padding=padding)\n",
    "    conv_biased = tf.nn.bias_add(conv, biases)\n",
    "    if nonlinearity is not None:\n",
    "        conv_biased = nonlinearity(conv_biased)\n",
    "    return conv_biased\n",
    "\n",
    "def transpose_conv_layer(inputs, kernel_size_1,kernel_size_2, num_features, stride_1,stride_2,padding='SAME', nonlinearity=None):\n",
    "    input_channels = int(inputs.get_shape()[3])\n",
    "    weights = tf.Variable(tf.truncated_normal(shape=[kernel_size_1, kernel_size_2, num_features, input_channels],\n",
    "                                              dtype=tf.float32, stddev=0.1))\n",
    "    biases = tf.Variable(tf.truncated_normal(\n",
    "        shape=[num_features], dtype=tf.float32, stddev=0.1))\n",
    "    conv = tf.nn.conv2d_transpose(inputs, weights, [tf.shape(inputs)[0],inputs.get_shape()[1]*stride_1,\n",
    "                                                    inputs.get_shape()[2]*stride_2,num_features], \n",
    "                                  strides=[1, stride_1, stride_2, 1], padding=padding)\n",
    "    conv_biased = tf.nn.bias_add(conv, biases)\n",
    "    if nonlinearity is not None:\n",
    "        conv_biased = nonlinearity(conv_biased)\n",
    "    conv_biased = tf.reshape(conv_biased, [tf.shape(inputs)[0],inputs.get_shape()[1]*stride_1,\n",
    "                                            inputs.get_shape()[2]*stride_2,num_features])\n",
    "\n",
    "    return conv_biased"
   ]
  },
  {
   "cell_type": "code",
   "execution_count": 11,
   "metadata": {},
   "outputs": [],
   "source": [
    "tf.reset_default_graph()\n",
    "graph = tf.Graph()\n",
    "with graph.as_default():\n",
    "    tf_x = tf.placeholder(shape=[None,100,100,2],dtype=tf.float32)\n",
    "    tf_y = tf.placeholder(shape=[None,100,100,1],dtype=tf.float32)\n",
    "    A1 = conv_layer(tf_x,5,5,128,1,padding='SAME',nonlinearity = tf.nn.relu)\n",
    "    p1 = tf.nn.max_pool(A1,ksize = [1,5,5,1],strides=[1,5,5,1],padding=\"SAME\")\n",
    "    A2 = conv_layer(p1,5,5,512,1,padding='SAME',nonlinearity = tf.nn.relu)\n",
    "    p2 = tf.nn.max_pool(A2,ksize = [1,5,5,1],strides = [1,5,5,1],padding='SAME')\n",
    "    f2 = tf.contrib.layers.flatten(p2)\n",
    "    A3 = tf.contrib.layers.fully_connected(f2,1024)\n",
    "    A4 = tf.reshape(A3,[tf.shape(A3)[0],1,1,A3.get_shape()[1]])\n",
    "    A5 = transpose_conv_layer(A4,5,5,512,5,5,nonlinearity = tf.nn.relu)\n",
    "    A6 = transpose_conv_layer(A5,2,2,256,2,2,nonlinearity = tf.nn.relu)\n",
    "    A7 = transpose_conv_layer(A6,5,5,128,5,5,nonlinearity = tf.nn.relu)\n",
    "    A8 = transpose_conv_layer(A7,2,2,1,2,2,nonlinearity = tf.nn.relu)\n",
    "    logits = tf.nn.tanh(A8)\n",
    "    logits = tf.nn.relu(logits)\n",
    "    loss = tf.sqrt(tf.reduce_mean(tf.squared_difference(logits,tf_y)))\n",
    "    optimizer = tf.train.AdamOptimizer(0.0001).minimize(loss)\n",
    "    saver = tf.train.Saver()\n",
    "    save_path = \"/home/http/ME16D412/Sai_and_Harish/weights_sai_and_harish_2/weights_of_Sai_and_Harish_2.ckpt\"\n",
    "    file_writer = tf.summary.FileWriter(logdir,tf.get_default_graph())"
   ]
  },
  {
   "cell_type": "raw",
   "metadata": {},
   "source": [
    "tf.reset_default_graph()\n",
    "graph = tf.Graph()\n",
    "with graph.as_default():\n",
    "    tf_x = tf.placeholder(shape=[None,100,100,2],dtype=tf.float32)\n",
    "    tf_y = tf.placeholder(shape=[None,100,100,1],dtype=tf.float32)\n",
    "    A1 = conv_layer(tf_x,2,2,128,1,padding='SAME',nonlinearity = tf.nn.relu)\n",
    "    p1 = tf.nn.max_pool(A1,ksize = [1,2,2,1],strides=[1,2,2,1],padding=\"SAME\")\n",
    "    A2 = conv_layer(p1,2,2,512,1,padding='SAME',nonlinearity = tf.nn.relu)\n",
    "    p2 = tf.nn.max_pool(A2,ksize = [1,2,2,1],strides = [1,2,2,1],padding='SAME')\n",
    "    A3 = conv_layer(p2,5,5,512,1,padding='SAME',nonlinearity = tf.nn.relu)\n",
    "    p3 = tf.nn.max_pool(A3,ksize = [1,5,5,1],strides = [1,5,5,1],padding='SAME')\n",
    "    A4 = conv_layer(p3,2,2,512,1,padding='SAME',nonlinearity = tf.nn.relu)\n",
    "    f4 = tf.contrib.layers.flatten(A4)\n",
    "    A5 = tf.contrib.layers.fully_connected(f4,1024)\n",
    "    A6 = tf.reshape(A5,[tf.shape(A5)[0],1,1,A5.get_shape()[1]])\n",
    "    A7 = transpose_conv_layer(A6,5,5,512,5,5,nonlinearity = tf.nn.relu)\n",
    "    A8 = transpose_conv_layer(A7,2,2,256,2,2,nonlinearity = tf.nn.relu)\n",
    "    A9 = transpose_conv_layer(A8,5,5,128,5,5,nonlinearity = tf.nn.relu)\n",
    "    A10 = transpose_conv_layer(A9,2,2,1,2,2,nonlinearity = tf.nn.relu)\n",
    "    logits = tf.nn.tanh(A10)\n",
    "    logits = tf.nn.relu(logits)\n",
    "    loss = tf.sqrt(tf.reduce_mean(tf.squared_difference(logits,tf_y)))\n",
    "    optimizer = tf.train.AdamOptimizer(0.0001).minimize(loss)\n",
    "    saver = tf.train.Saver()\n",
    "    save_path = \"/home/http/ME16D412/Sai_and_Harish/weights_sai_and_harish_2/weights_of_Sai_and_Harish_2.ckpt\"\n",
    "    file_writer = tf.summary.FileWriter(logdir,tf.get_default_graph())"
   ]
  },
  {
   "cell_type": "code",
   "execution_count": 12,
   "metadata": {},
   "outputs": [],
   "source": [
    "def gen_batch(features, labels, batch_size=1, height=100, width=100, n_channels=1):\n",
    "    index = np.random.choice(range(len(features)), batch_size)\n",
    "    feature_batch = []\n",
    "    target_batch = []\n",
    "    for i in (index):\n",
    "        target_batch.append(labels[i])\n",
    "        feature_batch.append(features[i])\n",
    "    feature_batch = np.array(feature_batch).astype(\n",
    "        np.float32).reshape([batch_size, height, width, 2])\n",
    "    target_batch = np.array(target_batch).astype(\n",
    "        np.float32).reshape([batch_size, height, width, n_channels])\n",
    "    return feature_batch, target_batch"
   ]
  },
  {
   "cell_type": "code",
   "execution_count": 13,
   "metadata": {},
   "outputs": [
    {
     "name": "stdout",
     "output_type": "stream",
     "text": [
      "0 0.658849\n",
      "1 0.193765\n",
      "2 0.112882\n",
      "3 0.0960544\n",
      "4 0.0732172\n",
      "5 0.0695201\n",
      "6 0.0719815\n",
      "7 0.06264\n",
      "8 0.0683113\n",
      "9 0.0657215\n",
      "10 0.0684714\n",
      "11 0.0532164\n",
      "12 0.0506541\n",
      "13 0.0532839\n",
      "14 0.0542659\n",
      "15 0.0548091\n",
      "16 0.0541004\n",
      "17 0.0520006\n",
      "18 0.0556727\n",
      "19 0.046457\n"
     ]
    },
    {
     "data": {
      "image/png": "[encoded data removed]",
      "text/plain": [
       "<matplotlib.figure.Figure at 0x7f3a9f6cbeb8>"
      ]
     },
     "metadata": {},
     "output_type": "display_data"
    }
   ],
   "source": [
    "sess = tf.InteractiveSession(graph=graph)\n",
    "file_writer = tf.summary.FileWriter('logs/graph',sess.graph)\n",
    "tf.global_variables_initializer().run()\n",
    "fig = plt.figure()\n",
    "ax = fig.add_subplot(1,1,1)\n",
    "ax.set_xlabel('number of iterations')\n",
    "ax.set_ylabel('error')\n",
    "ax.set_title('error vs number of iterations')\n",
    "count = 0\n",
    "for i in range(2000):\n",
    "    a,b = gen_batch(train_features,train_labels,n_channels=1,batch_size=15)\n",
    "    feed_dict = {\n",
    "        tf_x:a,\n",
    "        tf_y:b\n",
    "    }\n",
    "    _,l = sess.run([optimizer,loss],feed_dict=feed_dict)\n",
    "    if i%100 ==0:\n",
    "        print(count,l)\n",
    "        count+=1\n",
    "        ax.scatter(i,l)\n",
    "saver.save(sess=sess,save_path=save_path)\n",
    "file_writer.close()"
   ]
  },
  {
   "cell_type": "raw",
   "metadata": {},
   "source": [
    "sess = tf.InteractiveSession(graph=graph)\n",
    "saver.restore(sess=sess,save_path=\"/home/http/ME16D412/Sai_and_Harish/weights_sai_and_harish_2/weights_of_Sai_and_Harish_2.ckpt\")\n",
    "a = test_features \n",
    "a = np.array(a).astype(np.float32).reshape([len(a),100,100,2])\n",
    "b = test_labels\n",
    "b = np.array(b).astype(np.float32).reshape([len(b),100,100,1])\n",
    "g = sess.run(logits,feed_dict={tf_x:a})"
   ]
  },
  {
   "cell_type": "raw",
   "metadata": {},
   "source": [
    "plt.figure(figsize=(10,100))\n",
    "batch_size = 15\n",
    "index = np.random.choice(range(len(a)), batch_size)\n",
    "for i in range(batch_size):\n",
    "    plt.subplot(batch_size,2,2*i+1)\n",
    "    plt.title('original image')\n",
    "    plt.imshow(b[index[i]][:,:,0])\n",
    "    plt.subplot(batch_size,2,(i*2)+2)\n",
    "    plt.title('output of ml image')\n",
    "    plt.imshow(g[index[i]][:,:,0])"
   ]
  },
  {
   "cell_type": "raw",
   "metadata": {},
   "source": [
    "Train_loss = np.zeros((len(test_labels)))\n",
    "Test_loss = np.zeros((len(test_labels)))\n",
    "Samples = np.zeros((len(test_labels)))\n",
    "samples = 1\n",
    "while (samples <= len(test_labels)):\n",
    "    train_a,train_b = gen_batch(train_features[1:-1],train_labels[1:-1],n_channels=1,batch_size=samples)\n",
    "    feed_dict = {\n",
    "        tf_x:train_a,\n",
    "        tf_y:train_b\n",
    "    }\n",
    "    _,train_loss = sess.run([optimizer,loss],feed_dict=feed_dict)\n",
    "    Train_loss[samples-1] = train_loss\n",
    "    test_a,test_b = gen_batch(test_features[1:-1],test_labels[1:-1],n_channels=1,batch_size=samples)\n",
    "    feed_dict = {\n",
    "        tf_x:test_a,\n",
    "        tf_y:test_b\n",
    "    }\n",
    "    _,test_loss = sess.run([optimizer,loss],feed_dict=feed_dict)\n",
    "    Test_loss[samples-1] = test_loss\n",
    "    Samples[samples-1]=samples\n",
    "    print(Samples[samples-1],Train_loss[samples-1],Test_loss[samples-1])\n",
    "    samples = samples + 1"
   ]
  },
  {
   "cell_type": "raw",
   "metadata": {},
   "source": [
    "# inputs[:int(percentage*100),:,0] = 1; inputs[:,:,1] = (nu+1)/100; conv:5,5; deconv:5,2,5,2\n",
    "fig = plt.figure()\n",
    "ax = fig.add_subplot(1,1,1)\n",
    "ax.set_xlabel('number of samples')\n",
    "ax.set_ylabel('error')\n",
    "ax.set_title('learning curves')\n",
    "ax.plot(Samples, Train_loss, color='lightblue', linewidth=3,label='training')\n",
    "ax.plot(Samples, Test_loss, color='darkgreen', linewidth=3,label='cross validation')\n",
    "ax.legend()"
   ]
  },
  {
   "cell_type": "raw",
   "metadata": {},
   "source": [
    "feature_05_05 = dummy+0.5+0.05\n",
    "feature_05_05 = np.array(feature_05_05).astype(np.float32).reshape([1,100,100,1])\n",
    "g_ = sess.run(logits,feed_dict={tf_x:feature_05_05})\n",
    "plt.figure(figsize=(10,50))\n",
    "plt.imshow(g_[0][:,:,0])"
   ]
  },
  {
   "cell_type": "raw",
   "metadata": {},
   "source": [
    "a = input_dict[0.75][0] \n",
    "a = np.array(a).astype(np.float32).reshape([1,100,100,2])\n",
    "b = label_dict[0.75][0]\n",
    "b = np.array(b).astype(np.float32).reshape([1,100,100,1])\n",
    "g = sess.run(logits,feed_dict={tf_x:a})\n",
    "plt.subplot(121)\n",
    "plt.title('originam image')\n",
    "plt.imshow(b[0][:,:,0])\n",
    "plt.subplot(122)\n",
    "plt.title('output of ml image')\n",
    "plt.imshow(g[0][:,:,0])"
   ]
  },
  {
   "cell_type": "raw",
   "metadata": {},
   "source": [
    "\n",
    "a[0].shape"
   ]
  },
  {
   "cell_type": "raw",
   "metadata": {},
   "source": [
    "a = input_dict[0.75]\n",
    "b = label_dict[0.75]\n",
    "a = np.array(a).astype(np.float32).reshape([len(a),100,100,2])\n",
    "b = np.array(b).astype(np.float32).reshape([len(b),100,100,1])\n",
    "g = sess.run(logits,feed_dict={tf_x:a})\n",
    "plt.figure(figsize=(10,50))\n",
    "batch_size = 15\n",
    "#index = np.random.choice(range(len(a)), batch_size)\n",
    "for i in range(batch_size):\n",
    "    plt.subplot(batch_size,2,2*i+1)\n",
    "    plt.title('original image')\n",
    "    plt.imshow(b[i][:,:,0])\n",
    "    plt.subplot(batch_size,2,(i*2)+2)\n",
    "    plt.title('output of ml image')\n",
    "    plt.imshow(g[i][:,:,0])"
   ]
  },
  {
   "cell_type": "code",
   "execution_count": 14,
   "metadata": {},
   "outputs": [
    {
     "name": "stdout",
     "output_type": "stream",
     "text": [
      "INFO:tensorflow:Restoring parameters from /home/http/ME16D412/Sai_and_Harish/weights_sai_and_harish/weights_of_Sai_and_Harish_2.ckpt\n"
     ]
    }
   ],
   "source": [
    "sess = tf.InteractiveSession(graph=graph)\n",
    "saver.restore(sess=sess,save_path=\"/home/http/ME16D412/Sai_and_Harish/weights_sai_and_harish/weights_of_Sai_and_Harish_2.ckpt\")"
   ]
  },
  {
   "cell_type": "code",
   "execution_count": 15,
   "metadata": {},
   "outputs": [],
   "source": [
    "a = []\n",
    "a.append(input_dict[0.45][19])\n",
    "a.append(input_dict[0.55][19])\n",
    "a.append(input_dict[0.65][19])\n",
    "a = np.array(a).astype(np.float32).reshape([len(a),100,100,2])\n",
    "b = []\n",
    "b.append(label_dict[0.45][19])\n",
    "b.append(label_dict[0.55][19])\n",
    "b.append(label_dict[0.65][19])\n",
    "b = np.array(b).astype(np.float32).reshape([len(b),100,100,1])"
   ]
  },
  {
   "cell_type": "raw",
   "metadata": {},
   "source": [
    "plt.figure(figsize=(4,8))\n",
    "plt.subplot(311)\n",
    "plt.title('volume 45%, Poisson ratio 0.2')\n",
    "plt.imshow(b[0][:,:,0])\n",
    "plt.axis('off')\n",
    "plt.subplot(312)\n",
    "plt.title('volume 55%, Poisson ratio 0.2')\n",
    "plt.imshow(b[1][:,:,0])\n",
    "plt.axis('off')\n",
    "plt.subplot(313)\n",
    "plt.title('volume 65%, Poisson ratio 0.2')\n",
    "plt.imshow(b[2][:,:,0])\n",
    "plt.axis('off')"
   ]
  },
  {
   "cell_type": "code",
   "execution_count": 16,
   "metadata": {},
   "outputs": [
    {
     "data": {
      "text/plain": [
       "(-0.5, 99.5, 99.5, -0.5)"
      ]
     },
     "execution_count": 16,
     "metadata": {},
     "output_type": "execute_result"
    },
    {
     "data": {
      "image/png": "[encoded data removed]",
      "text/plain": [
       "<matplotlib.figure.Figure at 0x7f3a9ec0d898>"
      ]
     },
     "metadata": {},
     "output_type": "display_data"
    }
   ],
   "source": [
    "g = sess.run(logits,feed_dict={tf_x:a})\n",
    "plt.figure(figsize=(4,8))\n",
    "plt.subplot(311)\n",
    "plt.title('volume 45%, Poisson ratio 0.2')\n",
    "plt.imshow(g[0][:,:,0])\n",
    "plt.axis('off')\n",
    "plt.subplot(312)\n",
    "plt.title('volume 55%, Poisson ratio 0.2')\n",
    "plt.imshow(g[1][:,:,0])\n",
    "plt.axis('off')\n",
    "plt.subplot(313)\n",
    "plt.title('volume 65%, Poisson ratio 0.2')\n",
    "plt.imshow(g[2][:,:,0])\n",
    "plt.axis('off')"
   ]
  },
  {
   "cell_type": "code",
   "execution_count": null,
   "metadata": {},
   "outputs": [],
   "source": []
  }
 ],
 "metadata": {
  "kernelspec": {
   "display_name": "Python 3",
   "language": "python",
   "name": "python3"
  },
  "language_info": {
   "codemirror_mode": {
    "name": "ipython",
    "version": 3
   },
   "file_extension": ".py",
   "mimetype": "text/x-python",
   "name": "python",
   "nbconvert_exporter": "python",
   "pygments_lexer": "ipython3",
   "version": "3.5.2"
  }
 },
 "nbformat": 4,
 "nbformat_minor": 2
}
